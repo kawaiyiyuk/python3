{
 "cells": [
  {
   "cell_type": "markdown",
   "metadata": {},
   "source": [
    "### 转义\n",
    "\n"
   ]
  },
  {
   "cell_type": "code",
   "execution_count": 1,
   "metadata": {},
   "outputs": [
    {
     "name": "stdout",
     "output_type": "stream",
     "text": [
      "I am Luoqi , I am 18 years old\n"
     ]
    }
   ],
   "source": [
    "s = 'I am %s , I am %d years old'\n",
    "print (s % ('Luoqi',18))"
   ]
  },
  {
   "cell_type": "markdown",
   "metadata": {},
   "source": [
    "### format 函数格式化字符串\n",
    "- 直接用format函数进行格式化\n",
    "- 推荐使用这种方法\n",
    "- 在使用上 以{}和 : 代替%号 后面用format带参数完成\n",
    "- {}内可以添加标号，顺序是format传入参数的顺序"
   ]
  },
  {
   "cell_type": "code",
   "execution_count": 36,
   "metadata": {
    "scrolled": true
   },
   "outputs": [
    {
     "name": "stdout",
     "output_type": "stream",
     "text": [
      "I love wangxiaopang\n",
      "Yes I am 18 yesrs old, I love Wangxiaopang and I am 18 years old\n"
     ]
    }
   ],
   "source": [
    "s = 'I love {}'.format('wangxiaopang')\n",
    "print (s)\n",
    "ss = 'Yes I am {1} yesrs old, I love {0} and I am {1} years old'.format ('Wangxiaopang',18)\n",
    "print (ss)"
   ]
  },
  {
   "cell_type": "markdown",
   "metadata": {},
   "source": [
    "## None\n",
    "- 表示什么都没有\n",
    "- 如果函数没有返回值，可以返回 None\n",
    "- 用来占位置\n",
    "- 用来解除变量绑定"
   ]
  },
  {
   "cell_type": "markdown",
   "metadata": {},
   "source": [
    "# 表达式\n",
    "- 由一个或者几个数字或者变量和运算符组合成的一行代码\n",
    "- 通常会返回一个结果\n",
    "\n",
    "# 运算符\n",
    "- 运算符分类\n",
    "    - 算数运算符\n",
    "    - 比较或者关系运算符\n",
    "    - 逻辑运算符\n",
    "    - 赋值运算符\n",
    "    - 位运算\n",
    "    - 成员运算符\n",
    "    - 身份运算符"
   ]
  },
  {
   "cell_type": "markdown",
   "metadata": {},
   "source": [
    "## 算数运算符\n",
    "\n",
    "   - python 没有自增和自减"
   ]
  },
  {
   "cell_type": "code",
   "execution_count": 17,
   "metadata": {},
   "outputs": [
    {
     "name": "stdout",
     "output_type": "stream",
     "text": [
      "10\n",
      "20\n",
      "2.25\n",
      "1\n",
      "2\n",
      "27\n"
     ]
    }
   ],
   "source": [
    "# + - 跟正常运算符一模一样\n",
    "n = 9+2-1\n",
    "print (n)\n",
    "# 乘号用 * \n",
    "nn = 4*5\n",
    "print (nn)\n",
    "# 除号 用/  python2 和python3 (/)的结果可能不一样， 此处是python3\n",
    "nnn = 9/4\n",
    "print (nnn)\n",
    "# % 取余运算\n",
    "nnnn = 9%4\n",
    "print (nnnn)\n",
    "\n",
    "#// 取商运算 也叫地板除\n",
    "n = 9//4\n",
    "print (n)\n",
    "\n",
    "# ** 表示幂运算\n",
    "n = 3**3\n",
    "\n",
    "print (n)"
   ]
  },
  {
   "cell_type": "markdown",
   "metadata": {},
   "source": [
    "# 比较运算符\n",
    "- 对两个变量或者值进行比较的运算符\n",
    "- 比较的结果一定是一个布尔值\n",
    "   "
   ]
  },
  {
   "cell_type": "code",
   "execution_count": 20,
   "metadata": {},
   "outputs": [
    {
     "name": "stdout",
     "output_type": "stream",
     "text": [
      "False\n",
      "True\n"
     ]
    }
   ],
   "source": [
    "# == 等于号\n",
    "a = 3**4 \n",
    "# 下面语句的运算顺序\n",
    "# 1 计算 a== 80\n",
    "# 2 把付过放入b中\n",
    "b = a == 80\n",
    "print (b)\n",
    "\n",
    "# ！= 不等于\n",
    "print (9 != 8)\n",
    "# > 大于\n",
    "# < 小于\n",
    "# >= 大于等于\n",
    "# <= 小于等于"
   ]
  },
  {
   "cell_type": "markdown",
   "metadata": {},
   "source": [
    "# 赋值运算符\n"
   ]
  },
  {
   "cell_type": "code",
   "execution_count": 23,
   "metadata": {},
   "outputs": [
    {
     "name": "stdout",
     "output_type": "stream",
     "text": [
      "7\n"
     ]
    }
   ],
   "source": [
    " # = 赋值\n",
    "a = 0\n",
    "c = a = 4\n",
    "\n",
    "# += 缩写形式\n",
    "a = 0\n",
    "a += 7 # a= a+7\n",
    "print (a)\n",
    "\n",
    "# 所有的数学运算符都有这种缩写\n",
    "# -= *= /= %="
   ]
  },
  {
   "cell_type": "markdown",
   "metadata": {},
   "source": [
    "# 逻辑运算符\n",
    "- 对布尔值进行计算的符号\n",
    "- and 逻辑与\n",
    "- or 逻辑或\n",
    "- not 逻辑非\n",
    "- python 中逻辑运算符没有亦或运算符\n",
    "- 运算规则：\n",
    "    - and看错乘法 or 看做加法\n",
    "    - true 看做1 false 看做0\n",
    "    - 则逻辑运算符就能转换整数数学运算\n",
    "    - 最后结果如果是0 则为fasle 否则为true\n",
    "- 逻辑运算符的短路问题\n",
    "    - 逻辑运算式 按照运算顺序计算 一旦能够确定整个式子未来的值 ，则不再进行计算 ，直接返回"
   ]
  },
  {
   "cell_type": "code",
   "execution_count": 29,
   "metadata": {},
   "outputs": [
    {
     "name": "stdout",
     "output_type": "stream",
     "text": [
      "True\n",
      "True\n",
      "False\n",
      "True\n"
     ]
    }
   ],
   "source": [
    "# 逻辑运算符\n",
    "a = True\n",
    "b = False\n",
    "c = True\n",
    "\n",
    "d = a and b or c\n",
    "print (d)\n",
    "\n",
    "d = a or b and c\n",
    "print (d)\n",
    "d = b and c\n",
    "print (d)\n",
    "d = b or c\n",
    "print (d)\n",
    "\n"
   ]
  },
  {
   "cell_type": "code",
   "execution_count": 37,
   "metadata": {},
   "outputs": [
    {
     "name": "stdout",
     "output_type": "stream",
     "text": [
      "True\n",
      "False\n"
     ]
    }
   ],
   "source": [
    "# 逻辑运算符短路\n",
    "\n",
    "# 下面的逻辑表达式 a的值一定是True 则运算符到or的时候，整个表达式不再继续计算\n",
    "a = True or xxxxxxxxx\n",
    "print (a)\n",
    "a = False and (xxxxxxxxxx)\n",
    "print (a)"
   ]
  },
  {
   "cell_type": "markdown",
   "metadata": {},
   "source": [
    "# 成员运算符号\n",
    "- 用来检测有一个变量是否属于另一个变量\n",
    "- in\n",
    "- not in\n"
   ]
  },
  {
   "cell_type": "code",
   "execution_count": 41,
   "metadata": {},
   "outputs": [
    {
     "name": "stdout",
     "output_type": "stream",
     "text": [
      "False\n",
      "True\n"
     ]
    }
   ],
   "source": [
    "#示例\n",
    "l = [1,2,3,4,5]\n",
    "a = 7\n",
    "b = a in l\n",
    "print (b)\n",
    "a = 4 \n",
    "print (a in l)"
   ]
  },
  {
   "cell_type": "markdown",
   "metadata": {},
   "source": [
    "# 身份运算\n",
    "- is：用来检测两个变量是否是一个变量\n",
    "    - 语法就是var1 is var 2\n",
    "- is not 两个变量不是同一个变量"
   ]
  },
  {
   "cell_type": "code",
   "execution_count": 43,
   "metadata": {},
   "outputs": [
    {
     "name": "stdout",
     "output_type": "stream",
     "text": [
      "True\n",
      "False\n"
     ]
    }
   ],
   "source": [
    "a = 9 \n",
    "b = 9\n",
    "print (a is b) # 这里有个内存返回问题 想表达的是 a不是b\n",
    "\n",
    "a = 'I love wangxiaopang'\n",
    "b = 'I love wangxiaopang'\n",
    "\n",
    "print (a is b)"
   ]
  },
  {
   "cell_type": "markdown",
   "metadata": {},
   "source": [
    "## 运算符的优先级问题\n",
    "- 永远记住，括号具有最高的优先级 也就是说要把想先运算的的放括号里头\n",
    "- "
   ]
  },
  {
   "cell_type": "markdown",
   "metadata": {},
   "source": [
    "# 程序三大解构\n",
    "- 顺序\n",
    "- 分支\n",
    "- 循环"
   ]
  },
  {
   "cell_type": "code",
   "execution_count": null,
   "metadata": {},
   "outputs": [],
   "source": []
  }
 ],
 "metadata": {
  "kernelspec": {
   "display_name": "Python 3",
   "language": "python",
   "name": "python3"
  },
  "language_info": {
   "codemirror_mode": {
    "name": "ipython",
    "version": 3
   },
   "file_extension": ".py",
   "mimetype": "text/x-python",
   "name": "python",
   "nbconvert_exporter": "python",
   "pygments_lexer": "ipython3",
   "version": "3.6.5"
  }
 },
 "nbformat": 4,
 "nbformat_minor": 2
}
