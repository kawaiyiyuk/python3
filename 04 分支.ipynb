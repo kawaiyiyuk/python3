{
 "cells": [
  {
   "cell_type": "markdown",
   "metadata": {},
   "source": [
    "# 三大解构\n",
    "- 顺序\n",
    "- 分支 (if 语句)\n",
    "- 循环"
   ]
  },
  {
   "cell_type": "markdown",
   "metadata": {},
   "source": [
    "# 分支\n",
    "- 分支的基本语法\n",
    "       if 条件表达式\n",
    "       语句1\n",
    "       语句2\n",
    "       语句3\n",
    "       ........\n",
    "- 条件表达式 就是计算结果必须为布尔值的表达式\n",
    "\n"
   ]
  },
  {
   "cell_type": "code",
   "execution_count": 2,
   "metadata": {},
   "outputs": [
    {
     "name": "stdout",
     "output_type": "stream",
     "text": [
      "回去找家长\n",
      "我们不带你玩\n",
      "走走走 再不走打你了\n"
     ]
    }
   ],
   "source": [
    "# if语句练习\n",
    "\n",
    "# 如果年龄小于18岁 则打印信息'去找家长'\n",
    "# python 里是用缩进来实现语句块的 这点一定要记住\n",
    "age =17 \n",
    "if age < 18 :\n",
    "    print ('回去找家长')\n",
    "    print ('我们不带你玩')\n",
    "    print ('走走走 再不走打你了')"
   ]
  },
  {
   "cell_type": "code",
   "execution_count": 4,
   "metadata": {},
   "outputs": [
    {
     "name": "stdout",
     "output_type": "stream",
     "text": [
      "开始上车了， 老司机们\n"
     ]
    }
   ],
   "source": [
    "# if语句练习\n",
    "\n",
    "# 如果年龄小于18岁 则打印信息'去找家长'\n",
    "age =19 \n",
    "if age < 18 :\n",
    "    print ('回去找家长')\n",
    "    print ('我们不带你玩')\n",
    "    print ('走走走 再不走打你了')\n",
    "    \n",
    "print ('开始上车了， 老司机们')"
   ]
  },
  {
   "cell_type": "code",
   "execution_count": null,
   "metadata": {},
   "outputs": [],
   "source": [
    "print ('今天学习for循环')\n",
    "gender = '男'\n",
    "if gender == '女':\n",
    "    print ('来，叔叔给你糖吃')\n",
    "print ('开始讲for循环了')"
   ]
  },
  {
   "cell_type": "markdown",
   "metadata": {},
   "source": [
    "### 双向分支  \n",
    "- if...else...语句\n",
    "\n",
    "    if 条件表达式:\n",
    "        语句1\n",
    "        语句2\n",
    "    else:\n",
    "        语句1\n",
    "        语句2\n",
    "- 双向分支有两个分支，当程序执行到 if...else... 语句的时候 一定会执行if 或者是else中的一个 也仅执行一个\n",
    "- 缩进问题 if和else一个层级，其余语句一个层级\n",
    "\n"
   ]
  },
  {
   "cell_type": "code",
   "execution_count": null,
   "metadata": {},
   "outputs": [],
   "source": [
    "# 屏幕上输出括号中的字符串\n",
    "#input 返回的一定是字符串类型\n",
    "gender = input ('请输入性别')\n",
    "print ('你输入的性别是: {0}'.format(gender))\n",
    "if gender == 'nan':\n",
    "    print ('来 代码给我敲十遍')\n",
    "else: \n",
    "    print ('来，叔叔给你发糖')\n",
    "print ('好了 开始干活了')\n"
   ]
  },
  {
   "cell_type": "code",
   "execution_count": 4,
   "metadata": {},
   "outputs": [
    {
     "name": "stdout",
     "output_type": "stream",
     "text": [
      "请输入学生成绩:90\n",
      "优秀\n"
     ]
    }
   ],
   "source": [
    "# 考试成绩判断\n",
    "# 90以上 优秀\n",
    "# 80-90 良\n",
    "# 70-80 中\n",
    "# 60-70 合格\n",
    "# 60以下 不合格\n",
    "\n",
    "score = input ('请输入学生成绩:')\n",
    "score = int(score)\n",
    "\n",
    "if score >= 90:\n",
    "    print (\"优秀\")\n",
    "if score >= 80 and score <90:\n",
    "    print (\"良\")\n",
    "if score >= 70 and score <80:\n",
    "    print (\"中\")\n",
    "if score >= 60 and score <70:\n",
    "    print (\"合格\")\n",
    "if score < 60:\n",
    "    print (\"不合格\")"
   ]
  },
  {
   "cell_type": "markdown",
   "metadata": {},
   "source": [
    "## 多路分支\n",
    "- 很多分支的情况， 简称多路分支"
   ]
  },
  {
   "cell_type": "code",
   "execution_count": 2,
   "metadata": {},
   "outputs": [
    {
     "name": "stdout",
     "output_type": "stream",
     "text": [
      "请输入学生成绩:90\n",
      "优秀\n"
     ]
    }
   ],
   "source": [
    "# 上面学生成绩的 多路分支演示\n",
    "score = input ('请输入学生成绩:')\n",
    "score = int(score)\n",
    "\n",
    "if score >= 90:\n",
    "     print (\"优秀\")\n",
    "elif score >= 80:\n",
    "    print (\"良\")\n",
    "elif score >= 70:\n",
    "    print (\"中\")\n",
    "elif score >=60:\n",
    "    print (\"合格\")\n",
    "else: \n",
    "    print (\"不合格\")"
   ]
  },
  {
   "cell_type": "markdown",
   "metadata": {},
   "source": [
    "# 循环语句\n",
    "- 重复执行某些固定动作或者处理基本固定的事物\n",
    "- 分类 \n",
    "    - for 循环\n",
    "    - while 循环\n",
    "## for 循环\n",
    "- for 循环\n",
    "\n",
    "    for 变量 in 序列\n",
    "        语句1\n",
    "        语句2\n",
    "        ..."
   ]
  },
  {
   "cell_type": "code",
   "execution_count": 7,
   "metadata": {},
   "outputs": [
    {
     "name": "stdout",
     "output_type": "stream",
     "text": [
      "张三\n",
      "不约不约\n",
      "lisi\n",
      "我的最爱lisi出现了\n",
      "wangwu\n",
      "不约不约\n",
      "zhaoliu\n",
      "不约不约\n"
     ]
    }
   ],
   "source": [
    "# 列表就是一列数字或者其他值 一般用中括号表示  ---- 为什么不叫数组？\n",
    "# 例如 ['张三'，'lisi','wangwu','zhaoliu']\n",
    "\n",
    "# 打印学生列表\n",
    "names =['张三','lisi','wangwu','zhaoliu']\n",
    "for name in names :\n",
    "    print (name)\n",
    "    if name == 'lisi':\n",
    "        print ('我的最爱{0}出现了'.format(name))\n",
    "    else:\n",
    "        print ('不约不约')"
   ]
  },
  {
   "cell_type": "markdown",
   "metadata": {},
   "source": [
    "## range 介绍\n",
    "- 生成一个数字序列\n",
    "- 具体范围可以设定"
   ]
  },
  {
   "cell_type": "code",
   "execution_count": 9,
   "metadata": {},
   "outputs": [
    {
     "name": "stdout",
     "output_type": "stream",
     "text": [
      "1\n",
      "2\n",
      "3\n",
      "4\n",
      "5\n",
      "6\n",
      "7\n",
      "8\n",
      "9\n"
     ]
    }
   ],
   "source": [
    "# range 联系\n",
    "# 打印1-10 的数字\n",
    "# 注意 一般再paython中，如果由表示数字范围的两个数，一般是包含左边数字不包含右边数字 左开区间，右闭区间\n",
    "# randint 是个特例，左右都包含\n",
    "# range函数再python2 和 python3 中有严重的区别\n",
    "for i in range(1,10) :\n",
    "    print (i)"
   ]
  },
  {
   "cell_type": "markdown",
   "metadata": {},
   "source": [
    "## for-else 语句\n",
    "- 当for循环结束的时候， 会执行else语句\n",
    "- else 语句是可选语句\n"
   ]
  },
  {
   "cell_type": "code",
   "execution_count": 11,
   "metadata": {},
   "outputs": [
    {
     "name": "stdout",
     "output_type": "stream",
     "text": [
      "张三\n",
      "不约不约\n",
      "lisi\n",
      "我的最爱lisi出现了\n",
      "wangwu\n",
      "不约不约\n",
      "zhaoliu\n",
      "不约不约\n",
      "别的都不行,不会再约了\n"
     ]
    }
   ],
   "source": [
    "# for-else 语句\n",
    "# 打印列表中的同学\n",
    "# 如果没有在列表中，或者列表结束了，我们需要打印提示语句\n",
    "names =['张三','lisi','wangwu','zhaoliu']\n",
    "for name in names :\n",
    "    print (name)\n",
    "    if name == 'lisi':\n",
    "        print ('我的最爱{0}出现了'.format(name))\n",
    "    else:\n",
    "        print ('不约不约')\n",
    "else:\n",
    "    print ('别的都不行,不会再约了')"
   ]
  },
  {
   "cell_type": "markdown",
   "metadata": {},
   "source": [
    "## for循环之 break continue pass\n",
    "- break: 无条件结束整个循环， 简称循环猝死\n",
    "- contineu: 无条件结束本次循环，从新进入下一轮循环\n",
    "- pass: 表示略过 通常用来当做占位符"
   ]
  },
  {
   "cell_type": "code",
   "execution_count": 13,
   "metadata": {},
   "outputs": [
    {
     "name": "stdout",
     "output_type": "stream",
     "text": [
      "1\n",
      "2\n",
      "3\n",
      "4\n",
      "5\n",
      "6\n",
      "我找到了\n"
     ]
    }
   ],
   "source": [
    "# 在数字1-10 中 寻找数字7 一旦找到 打印出来，其余什么都不做\n",
    "# for 循环中的变量表示 一般用i,k,m,n 或者 indx idx item 之类的\n",
    "# 在python中 如果循环变量名称不重要，可以使用下划线(_)代替\n",
    "\n",
    "for i in range (1,10) :\n",
    "    if i == 7 :\n",
    "        print ('我找到了')\n",
    "        break\n",
    "    else :\n",
    "        print (i)\n",
    "    "
   ]
  },
  {
   "cell_type": "code",
   "execution_count": 18,
   "metadata": {},
   "outputs": [
    {
     "name": "stdout",
     "output_type": "stream",
     "text": [
      "2 是偶数\n",
      "4 是偶数\n",
      "6 是偶数\n",
      "8 是偶数\n"
     ]
    }
   ],
   "source": [
    "# 在数字1-10 中 寻找偶数，找到偶数后打印出来\n",
    "# 第一种写法\n",
    "for i in range (1,10) :\n",
    "    if i % 2 == 1 :\n",
    "        continue\n",
    "    else :\n",
    "        print ('{0} 是偶数'.format(i))\n",
    "    "
   ]
  },
  {
   "cell_type": "code",
   "execution_count": 20,
   "metadata": {},
   "outputs": [
    {
     "name": "stdout",
     "output_type": "stream",
     "text": [
      "2 是偶数\n",
      "4 是偶数\n",
      "6 是偶数\n",
      "8 是偶数\n"
     ]
    }
   ],
   "source": [
    "# 在数字1-10 中 寻找偶数，找到偶数后打印出来\n",
    "# 第二种写法\n",
    "for i in range (1,10) :\n",
    "    if i % 2 == 0 :\n",
    "        print ('{0} 是偶数'.format(i))"
   ]
  },
  {
   "cell_type": "code",
   "execution_count": 22,
   "metadata": {},
   "outputs": [
    {
     "name": "stdout",
     "output_type": "stream",
     "text": [
      "2 是偶数\n",
      "4 是偶数\n",
      "6 是偶数\n",
      "8 是偶数\n"
     ]
    }
   ],
   "source": [
    "# 在数字1-10 中 寻找偶数，找到偶数后打印出来\n",
    "# 第三种写法\n",
    "for i in range (1,10) :\n",
    "    if i % 2 == 1 :\n",
    "        continue\n",
    "    print ('{0} 是偶数'.format(i))"
   ]
  },
  {
   "cell_type": "code",
   "execution_count": 24,
   "metadata": {},
   "outputs": [
    {
     "name": "stdout",
     "output_type": "stream",
     "text": [
      "我在这\n",
      "我在这\n",
      "我在这\n",
      "我在这\n",
      "我在这\n",
      "我在这\n",
      "我在这\n",
      "我在这\n",
      "我在这\n"
     ]
    }
   ],
   "source": [
    "# pass 例子，一般是用来占位\n",
    "# \n",
    "for i in range (1,10):\n",
    "    pass\n",
    "    print ('我在这')"
   ]
  }
 ],
 "metadata": {
  "kernelspec": {
   "display_name": "Python 3",
   "language": "python",
   "name": "python3"
  },
  "language_info": {
   "codemirror_mode": {
    "name": "ipython",
    "version": 3
   },
   "file_extension": ".py",
   "mimetype": "text/x-python",
   "name": "python",
   "nbconvert_exporter": "python",
   "pygments_lexer": "ipython3",
   "version": "3.6.5"
  }
 },
 "nbformat": 4,
 "nbformat_minor": 2
}
